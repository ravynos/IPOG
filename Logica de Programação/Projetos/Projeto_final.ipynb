{
  "nbformat": 4,
  "nbformat_minor": 0,
  "metadata": {
    "colab": {
      "provenance": [],
      "authorship_tag": "ABX9TyPKIc+Yq7YeD/YTnNmPdguH",
      "include_colab_link": true
    },
    "kernelspec": {
      "name": "python3",
      "display_name": "Python 3"
    },
    "language_info": {
      "name": "python"
    }
  },
  "cells": [
    {
      "cell_type": "markdown",
      "metadata": {
        "id": "view-in-github",
        "colab_type": "text"
      },
      "source": [
        "<a href=\"https://colab.research.google.com/github/ravynos/IPOG/blob/main/Logica%20de%20Programa%C3%A7%C3%A3o/Projetos/Projeto_final.ipynb\" target=\"_parent\"><img src=\"https://colab.research.google.com/assets/colab-badge.svg\" alt=\"Open In Colab\"/></a>"
      ]
    },
    {
      "cell_type": "markdown",
      "source": [
        "# Projeto Final"
      ],
      "metadata": {
        "id": "KfW_60ylNEWZ"
      }
    },
    {
      "cell_type": "code",
      "execution_count": 26,
      "metadata": {
        "id": "EQ1YQi-n-nlf",
        "colab": {
          "base_uri": "https://localhost:8080/"
        },
        "outputId": "53fee677-8e23-4215-e49c-c6d29c5d6b1b"
      },
      "outputs": [
        {
          "output_type": "stream",
          "name": "stdout",
          "text": [
            "\n",
            " 1 - Quadrilatero \n",
            " 2 - Triângulo \n",
            " 0 - Encerrar \n",
            "\n",
            "Digite a opção: 1\n",
            "Digite a base do quadrilatero: 5\n",
            "Digite a altura do quadrilatero: 6\n",
            "A área do quadrilatero é: 30.0\n",
            "\n",
            " 1 - Quadrilatero \n",
            " 2 - Triângulo \n",
            " 0 - Encerrar \n",
            "\n",
            "Digite a opção: 0\n",
            "Sistema encerrado!\n"
          ]
        }
      ],
      "source": [
        "import time\n",
        "\n",
        "def limpar_tela():\n",
        "    os.system('cls' if os.name == 'nt' else 'clear')\n",
        "\n",
        "#Função calcular quadrilatero:\n",
        "def calc_area_quadrilatero(base, altura):\n",
        "    area = base*altura\n",
        "    return round(area, 2)\n",
        "\n",
        "#Função calcular triangulo\n",
        "def calc_area_triangulo(base, altura):\n",
        "  area = base*altura/2\n",
        "  return round(area, 2)\n",
        "\n",
        "#Função para chamar o menu.\n",
        "def menu():\n",
        "  print('\\n 1 - Quadrilatero \\n 2 - Triângulo \\n 0 - Encerrar \\n')\n",
        "  opcao = int(input('Digite a opção: '))\n",
        "  return opcao\n",
        "\n",
        "#Função de execução apartir do menu.\n",
        "def executar():\n",
        "  while True:\n",
        "    opcao = menu()\n",
        "\n",
        "    if opcao == 1:\n",
        "      base = float(input('Digite a base do quadrilatero: '))\n",
        "      altura = float(input('Digite a altura do quadrilatero: '))\n",
        "      area = calc_area_quadrilatero(base, altura)\n",
        "      print(f'A área do quadrilatero é: {area}')\n",
        "      time.sleep(2)\n",
        "    elif opcao == 2:\n",
        "      base = float(input('Digite a base do triângulo: '))\n",
        "      altura = float(input('Digite a altura do triângulo: '))\n",
        "      area = calc_area_triangulo(base, altura)\n",
        "      print(f'A área do triângulo é: {area}')\n",
        "      time.sleep(2)\n",
        "    elif opcao == 0:\n",
        "      print('Sistema encerrado!')\n",
        "      break\n",
        "    else:\n",
        "      print('Opção invalida!')\n",
        "      time.sleep(2)\n",
        "\n",
        "executar()"
      ]
    }
  ]
}